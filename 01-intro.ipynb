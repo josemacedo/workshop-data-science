{
 "cells": [
  {
   "cell_type": "markdown",
   "metadata": {},
   "source": [
    "# Workshop Ciência de Dados na Prática usando Python\n",
    "## XII Semana Acadêmica da Computação\n",
    "Prof. Regis Pires Magalhães\n",
    "\n",
    "Universidade Federal do Ceará - Campus de Quixadá\n",
    "\n",
    "## Parte 1 - Introdução"
   ]
  },
  {
   "cell_type": "markdown",
   "metadata": {},
   "source": [
    "### Expectativas\n",
    "- Apresente-se\n",
    "- O que você espera do minicurso?\n"
   ]
  },
  {
   "cell_type": "markdown",
   "metadata": {},
   "source": [
    "### Objetivos\n",
    "\n",
    "- Limpar os dados desorganizados, descobrir padrões, fazer previsões utilizando aprendizado de máquina, e comunicar claramente as descobertas."
   ]
  },
  {
   "cell_type": "markdown",
   "metadata": {},
   "source": [
    "### Organização do Minicurso\n",
    "\n",
    "#### Parte 1 - Introdução\n",
    "- Ciência de Dados\n",
    "- Instalação do Ambiente\n",
    "- Jupyter Notebooks\n",
    "\n",
    "#### Parte 2 - Python Básico\n",
    "\n",
    "#### Parte 3 - Bibliotecas Python para Manipulação de Dados\n",
    "\n",
    "#### Parte 4 - Análise de Dados\n",
    "- Obtenção de Dados\n",
    "- Análise Exploratória de Dados\n",
    "- Manipulação e Limpeza de Dados\n",
    "- Visualização de Dados\n",
    "\n",
    "#### Parte 5 - Aprendizado de Máquina\n",
    "- Introdução ao Aprendizado de Máquina usando Python\n",
    "\n",
    "#### Parte 6 - Conclusão\n",
    "- Conclusões e Passos Futuros\n"
   ]
  },
  {
   "cell_type": "markdown",
   "metadata": {},
   "source": [
    "### Ciência de Dados\n",
    "\n",
    "Ciência de Dados é a ** transformação de dados usando matemática e estatística em insights, decisões e produtos valiosos** [Foreman, 2013]. Ela é usada nas organizações para ajudar a melhorar seu funcionamento e a criar valor.\n",
    "\n",
    "A ciência de dados possui ferramentas para analisar esses dados e a partir deles, extrair conhecimentos essenciais para processos de tomada de decisão nos mais diversos contextos, como: \n",
    "\n",
    "- estratégias de logística\n",
    "- melhoria do trânsito urbano\n",
    "- controle de estoque de produtos\n",
    "- alocação de tarefas a colaboradores\n",
    "- melhoria de desempenho de alunos, atletas e vendedores\n",
    "- redução de custos\n",
    "- detecção de fraudes\n",
    "- ... \n",
    "\n",
    "** Desse modo, o uso de técnicas de análise de dados e aprendizagem de máquina podem levar ao uso muito mais eficiente de recursos. **\n"
   ]
  },
  {
   "cell_type": "markdown",
   "metadata": {},
   "source": [
    "#### Motivações\n",
    "\n",
    "- Barateamento e popularização dos dispositivos móveis e dos mais diversos tipos de sensores para coleta de dados.\n",
    "- Aumento do poder de processamento e armazenamento dos computadores.\n",
    "- Otimização de recursos em um mercado global cada vez mais competitivo.\n",
    "- Amadurecimento, melhoria e disseminação de técnicas de aprendizagem de máquina.\n"
   ]
  },
  {
   "cell_type": "markdown",
   "metadata": {},
   "source": [
    "### Seis passos importantes de um projeto de aprendizagem de máquina [Brownlee, 2016]\n",
    "\n",
    "\n",
    "1. Definição do problema\n",
    "2. Análise Exploratória dos Dados\n",
    "   - Uso de estatística descritiva e visualização para entender melhor os dados disponíveis.\n",
    "3. Preparar os dados\n",
    "   - Transformar os dados para que facilitar seu uso por algoritmos de mineração de dados / aprendizagem de máquina.\n",
    "4. Avaliar Algoritmos\n",
    "   - Avaliar os algoritmos de aprendizagem de máquina mais adequados para resolver o problema inicialmente proposto.\n",
    "5. Melhorar os resultados\n",
    "   - Fazer uma sintonia (tuning) dos algoritmos e métodos para melhorar os resultados.\n",
    "6. Apresentar os resultados"
   ]
  },
  {
   "cell_type": "markdown",
   "metadata": {},
   "source": [
    "### Bibliografia\n",
    "\n",
    "#### Análise de Dados usando Python\n",
    "\n",
    "- Grus, Joel. **Data Science from Scratch: First Principles with Python**. O'Reilly Media. 1ª Ed., 2015.\n",
    "\n",
    "- McKinney, Wes. **Python for Data Analysis: Data Wrangling with Pandas, NumPy, and IPython**. O'Reilly Media. 1ª Ed., 2012.\n",
    "\n",
    "- Brownlee, Jason. **Machine Learning Mastery with Python: Understand Your Data, Create Accurate Models and Work Projects End-To-End**. [Ebook](https://machinelearningmastery.com/machine-learning-with-python/). 1ª Ed., 2016. \n",
    "\n",
    "#### Aprendizado de Máquina usando Python\n",
    "\n",
    "- Raschka, Sebastian. **Python Machine Learning**. Packt Publishing. 1ª Ed., 2015. \n",
    "\n",
    "- Richert, Willi; Coelho, Luis Pedro. **Building Machine Learning Systems with Python**. Packt Publishing. 1ª Ed., 2013.\n",
    "\n",
    "\n",
    "#### Ciência de Dados\n",
    "\n",
    "- Foreman, John W. **Data Smart: Using Data Science to Transform Information into Insight**. Wiley. 1ª Ed., 2013.\n",
    "\n",
    "- Provost, Foster; Fawcett, Tom. **Data Science for Business: What You Need to Know about Data Mining and Data-Analytic Thinking**. O'Reilly Media. 1ª Ed., 2013.\n",
    "\n",
    "\n",
    "#### Aprendizado de Máquina \n",
    "\n",
    "- James, Gareth; Witten, Daniela; Hastie, Trevor; Tibshirani, Robert. **An Introduction to Statistical Learning: with Applications in R**. Springer. 1ª Ed., 2013.\n",
    "\n",
    "- Hastie, Trevor; Tibshirani, Robert; Friedman, Jerome. **The Elements of Statistical Learning: Data Mining, Inference, and Prediction. Springer**. 2ª Ed., 2009.\n",
    "\n",
    "- Pinheiro, Carlos André Reis.  **Inteligência Analítica: Mineração de Dados e Descoberta de Conhecimento**. Ciência Moderna, 1ª Ed., 2008.\n",
    "\n",
    "- Siegel, Eric. **Predictive Analytics: The Power to Predict Who Will Click, Buy, Lie, or Die**. Wiley. 2ª Ed., 2016.\n",
    "\n",
    "- Tan, Pang-Ning; Steinbach, Michael; Kumar, Vipin. **Introdução ao Data Mining - Mineração de Dados**. Ciência Moderna, 1ª Ed., 2012.\n",
    "\n",
    "- Witten, Ian H.; Frank, Eibe; Hall, Mark A. **Data Mining: Practical Machine Learning Tools and Techniques**. The Morgan Kaufmann Series in Data Management Systems. Morgan Kaufmann, 3ª Ed., 2011. \n",
    "\n",
    "- Zaki, M. J.; Meira Jr., W. **Data Mining and Analysis: Fundamental Concepts and Algorithms**. Cambridge University Press. 1ª Ed., 2014.\n"
   ]
  },
  {
   "cell_type": "markdown",
   "metadata": {},
   "source": [
    "### Cursos Introdutórios Online e Gratuitos\n",
    "\n",
    "- [Data Science Academy - Introdução à Ciência de Dados](https://www.datascienceacademy.com.br/course?courseid=introduo--cincia-de-dados)\n",
    "\n",
    "- [Data Science Academy - Python Fundamentos para Análise de Dados](https://www.datascienceacademy.com.br/pages/curso-python-fundamentos-para-analise-de-dados)\n"
   ]
  },
  {
   "cell_type": "markdown",
   "metadata": {},
   "source": [
    "### Sites\n",
    "\n",
    "- [Data School](http://www.dataschool.io/)\n",
    "\n",
    "- [Machine Learning Mastery](http://machinelearningmastery.com/)\n",
    "\n",
    "- [Kaggle](https://www.kaggle.com/)\n",
    "\n",
    "- [Analytics Vidhya](https://www.analyticsvidhya.com/)\n"
   ]
  },
  {
   "cell_type": "markdown",
   "metadata": {},
   "source": [
    "## Vídeos\n",
    "\n",
    "[Webinar Udacity - De aprendiz a mestre em Machine Learning](https://www.youtube.com/watch?v=1RWX5BhscAM) com [Gilberto Titericz](https://www.kaggle.com/titericz).\n",
    "\n",
    "### Principais momentos\n",
    "- Por que decidiu focar sua carreira em machine learning?\n",
    "- Como você utiliza atualmente data science no trabalho?\n",
    "- O que aprendeu com as competições que você venceu?\n",
    "- Você pode mostrar um exemplo de aplicação de machine learning que realizou?\n",
    "- O que você faz para estudar e se atualizar sempre?"
   ]
  },
  {
   "cell_type": "markdown",
   "metadata": {},
   "source": [
    "### Instalação do Ambiente\n",
    "\n",
    "#### [Anaconda](https://www.continuum.io/downloads) (> 400 MB) / [Miniconda](https://conda.io/miniconda.html) (< 30MB)\n",
    "\n",
    "- Preferir Python 3\n",
    "- Comandos importantes:\n",
    "    - `conda list`\n",
    "    - `conda install <pacote>` \n",
    "    - `conda update <pacote>`\n",
    "- Caso instale o miniconda, instalar depois:\n",
    "    - `conda install jupyter`\n",
    "    - `conda install matplotlib`\n",
    "    - `conda install pandas`\n",
    "    - `conda install scikit-learn`\n",
    "    - `conda install xlrd`\n"
   ]
  },
  {
   "cell_type": "markdown",
   "metadata": {},
   "source": [
    "### Jupyter Notebooks\n",
    "\n",
    "Ambiente Web simples e cheio de funcionalidades para lidar de forma interativa com Python e outras linguagens.\n",
    "- Jupyter Online\n",
    "    - https://try.jupyter.org\n",
    "- Execução\n",
    "    - `jupyter notebook     # porta padrão: 8888`\n",
    "    - `jupyter notebook --port 9999`\n",
    "- Conceitos básicos\n",
    "    - Núcleos (Kernels)\n",
    "        - Interromper\n",
    "        - Reiniciar\n",
    "        - Reconectar\n",
    "    - Células\n",
    "        - Tipos\n",
    "            - [Markdown](https://github.com/adam-p/markdown-here/wiki/Markdown-Cheatsheet) (`<m>`)\n",
    "            - Code (`<y>`)\n",
    "        - Modos\n",
    "            - Comando (azul, `<Esc>`)\n",
    "            - Edição (verde, `<Enter>`)\n",
    "                - Autocomplemento (`<Tab>`)\n",
    "                - Documentação (`<Shift> + <Tab>`)\n",
    "            - Atalhos de teclado\n",
    "        - Execução (`<Shift> + <Enter>`)\n",
    "            - Bolinha aberta / fechada no canto superior direito\n",
    "            - Running\n",
    "            - Shutdown / Halt\n",
    "    - Line Magics\n",
    "        - `%lsmagic`\n",
    "        - `%` - single line\n",
    "        - `%%` - multi-line\n",
    "        - `!` - executar comandos shell\n",
    "        - `$$ ... $$` - equação LaTeX\n",
    "    - Terminais\n",
    "    - Clusters\n",
    "- Manipulação de Arquivos / Diretórios\n",
    "    - Copiar\n",
    "    - Renomear\n",
    "    - Mover\n",
    "    - Autosave\n",
    "    - Checkpoint\n",
    "- Autenticação sem usuários\n",
    "- Limitações\n",
    "    - Acesso concorrente a um notebook\n",
    "    - Controle de usuários e permissões\n",
    "    - Lista de notebooks em execução deveria ter consumo de memória de cada notebook\n",
    "    - Python é lento. Solução usar integração (**Wrappers**) com C, C++ e Java.\n",
    "        - cython\n",
    "        - várias libs que usaremos já fazem isso para obter o melhor de 2 mundos:\n",
    "            - Simplicidade do Python\n",
    "            - Desempenho do C, C++, Java"
   ]
  },
  {
   "cell_type": "code",
   "execution_count": 8,
   "metadata": {},
   "outputs": [
    {
     "data": {
      "application/json": {
       "cell": {
        "!": "OSMagics",
        "HTML": "Other",
        "SVG": "Other",
        "bash": "Other",
        "capture": "ExecutionMagics",
        "debug": "ExecutionMagics",
        "file": "Other",
        "html": "DisplayMagics",
        "javascript": "DisplayMagics",
        "js": "DisplayMagics",
        "latex": "DisplayMagics",
        "perl": "Other",
        "prun": "ExecutionMagics",
        "pypy": "Other",
        "python": "Other",
        "python2": "Other",
        "python3": "Other",
        "ruby": "Other",
        "script": "ScriptMagics",
        "sh": "Other",
        "svg": "DisplayMagics",
        "sx": "OSMagics",
        "system": "OSMagics",
        "time": "ExecutionMagics",
        "timeit": "ExecutionMagics",
        "writefile": "OSMagics"
       },
       "line": {
        "alias": "OSMagics",
        "alias_magic": "BasicMagics",
        "autocall": "AutoMagics",
        "automagic": "AutoMagics",
        "autosave": "KernelMagics",
        "bookmark": "OSMagics",
        "cat": "Other",
        "cd": "OSMagics",
        "clear": "KernelMagics",
        "colors": "BasicMagics",
        "config": "ConfigMagics",
        "connect_info": "KernelMagics",
        "cp": "Other",
        "debug": "ExecutionMagics",
        "dhist": "OSMagics",
        "dirs": "OSMagics",
        "doctest_mode": "BasicMagics",
        "ed": "Other",
        "edit": "KernelMagics",
        "env": "OSMagics",
        "gui": "BasicMagics",
        "hist": "Other",
        "history": "HistoryMagics",
        "killbgscripts": "ScriptMagics",
        "ldir": "Other",
        "less": "KernelMagics",
        "lf": "Other",
        "lk": "Other",
        "ll": "Other",
        "load": "CodeMagics",
        "load_ext": "ExtensionMagics",
        "loadpy": "CodeMagics",
        "logoff": "LoggingMagics",
        "logon": "LoggingMagics",
        "logstart": "LoggingMagics",
        "logstate": "LoggingMagics",
        "logstop": "LoggingMagics",
        "ls": "Other",
        "lsmagic": "BasicMagics",
        "lx": "Other",
        "macro": "ExecutionMagics",
        "magic": "BasicMagics",
        "man": "KernelMagics",
        "matplotlib": "PylabMagics",
        "mkdir": "Other",
        "more": "KernelMagics",
        "mv": "Other",
        "notebook": "BasicMagics",
        "page": "BasicMagics",
        "pastebin": "CodeMagics",
        "pdb": "ExecutionMagics",
        "pdef": "NamespaceMagics",
        "pdoc": "NamespaceMagics",
        "pfile": "NamespaceMagics",
        "pinfo": "NamespaceMagics",
        "pinfo2": "NamespaceMagics",
        "popd": "OSMagics",
        "pprint": "BasicMagics",
        "precision": "BasicMagics",
        "profile": "BasicMagics",
        "prun": "ExecutionMagics",
        "psearch": "NamespaceMagics",
        "psource": "NamespaceMagics",
        "pushd": "OSMagics",
        "pwd": "OSMagics",
        "pycat": "OSMagics",
        "pylab": "PylabMagics",
        "qtconsole": "KernelMagics",
        "quickref": "BasicMagics",
        "recall": "HistoryMagics",
        "rehashx": "OSMagics",
        "reload_ext": "ExtensionMagics",
        "rep": "Other",
        "rerun": "HistoryMagics",
        "reset": "NamespaceMagics",
        "reset_selective": "NamespaceMagics",
        "rm": "Other",
        "rmdir": "Other",
        "run": "ExecutionMagics",
        "save": "CodeMagics",
        "sc": "OSMagics",
        "set_env": "OSMagics",
        "store": "StoreMagics",
        "sx": "OSMagics",
        "system": "OSMagics",
        "tb": "ExecutionMagics",
        "time": "ExecutionMagics",
        "timeit": "ExecutionMagics",
        "unalias": "OSMagics",
        "unload_ext": "ExtensionMagics",
        "who": "NamespaceMagics",
        "who_ls": "NamespaceMagics",
        "whos": "NamespaceMagics",
        "xdel": "NamespaceMagics",
        "xmode": "BasicMagics"
       }
      },
      "text/plain": [
       "Available line magics:\n",
       "%alias  %alias_magic  %autocall  %automagic  %autosave  %bookmark  %cat  %cd  %clear  %colors  %config  %connect_info  %cp  %debug  %dhist  %dirs  %doctest_mode  %ed  %edit  %env  %gui  %hist  %history  %killbgscripts  %ldir  %less  %lf  %lk  %ll  %load  %load_ext  %loadpy  %logoff  %logon  %logstart  %logstate  %logstop  %ls  %lsmagic  %lx  %macro  %magic  %man  %matplotlib  %mkdir  %more  %mv  %notebook  %page  %pastebin  %pdb  %pdef  %pdoc  %pfile  %pinfo  %pinfo2  %popd  %pprint  %precision  %profile  %prun  %psearch  %psource  %pushd  %pwd  %pycat  %pylab  %qtconsole  %quickref  %recall  %rehashx  %reload_ext  %rep  %rerun  %reset  %reset_selective  %rm  %rmdir  %run  %save  %sc  %set_env  %store  %sx  %system  %tb  %time  %timeit  %unalias  %unload_ext  %who  %who_ls  %whos  %xdel  %xmode\n",
       "\n",
       "Available cell magics:\n",
       "%%!  %%HTML  %%SVG  %%bash  %%capture  %%debug  %%file  %%html  %%javascript  %%js  %%latex  %%perl  %%prun  %%pypy  %%python  %%python2  %%python3  %%ruby  %%script  %%sh  %%svg  %%sx  %%system  %%time  %%timeit  %%writefile\n",
       "\n",
       "Automagic is ON, % prefix IS NOT needed for line magics."
      ]
     },
     "execution_count": 8,
     "metadata": {},
     "output_type": "execute_result"
    }
   ],
   "source": [
    "%lsmagic"
   ]
  },
  {
   "cell_type": "code",
   "execution_count": 7,
   "metadata": {},
   "outputs": [
    {
     "name": "stdout",
     "output_type": "stream",
     "text": [
      "README.md                                                             minicurso-analise_de_dados-04-analise_de_dados.ipynb\r\n",
      "minicurso-analise_de_dados-01-intro.ipynb                             minicurso-analise_de_dados-05-aprendizagem_maquina.ipynb\r\n",
      "minicurso-analise_de_dados-02-python_basico.ipynb                     minicurso-analise_de_dados-05-conclusoes.ipynb\r\n",
      "minicurso-analise_de_dados-03-bibliotecas-manipulacao_de_dados.ipynb  python-reference.ipynb\r\n"
     ]
    }
   ],
   "source": [
    "%ls"
   ]
  },
  {
   "cell_type": "code",
   "execution_count": 11,
   "metadata": {},
   "outputs": [
    {
     "name": "stdout",
     "output_type": "stream",
     "text": [
      "CPU times: user 619 µs, sys: 1.1 ms, total: 1.72 ms\n",
      "Wall time: 2 s\n"
     ]
    }
   ],
   "source": [
    "%%time\n",
    "import time\n",
    "time.sleep(2)"
   ]
  },
  {
   "cell_type": "code",
   "execution_count": 21,
   "metadata": {},
   "outputs": [
    {
     "name": "stdout",
     "output_type": "stream",
     "text": [
      "CPU times: user 659 µs, sys: 988 µs, total: 1.65 ms\n",
      "Wall time: 1.1 s\n",
      "CPU times: user 1.04 ms, sys: 263 µs, total: 1.3 ms\n",
      "Wall time: 1.21 s\n",
      " "
     ]
    }
   ],
   "source": [
    "%time time.sleep(1.1)\n",
    "%time time.sleep(1.2)"
   ]
  },
  {
   "cell_type": "code",
   "execution_count": 12,
   "metadata": {},
   "outputs": [
    {
     "name": "stdout",
     "output_type": "stream",
     "text": [
      " "
     ]
    }
   ],
   "source": [
    "%prun time.sleep(1.1)"
   ]
  },
  {
   "cell_type": "code",
   "execution_count": 9,
   "metadata": {},
   "outputs": [
    {
     "name": "stdout",
     "output_type": "stream",
     "text": [
      "README.md\r\n"
     ]
    }
   ],
   "source": [
    "!ls | grep md"
   ]
  },
  {
   "cell_type": "markdown",
   "metadata": {},
   "source": [
    "### Latex"
   ]
  },
  {
   "cell_type": "markdown",
   "metadata": {},
   "source": [
    "#### Markdown\n",
    "```latex\n",
    "$ c = \\sqrt{a^2 + b^2} $\n",
    "```"
   ]
  },
  {
   "cell_type": "markdown",
   "metadata": {},
   "source": [
    "$ c = \\sqrt{a^2 + b^2} $"
   ]
  },
  {
   "cell_type": "markdown",
   "metadata": {},
   "source": [
    "#### Código"
   ]
  },
  {
   "cell_type": "code",
   "execution_count": 18,
   "metadata": {},
   "outputs": [
    {
     "data": {
      "text/latex": [
       "$c = \\sqrt{a^2 + b^2}$"
      ],
      "text/plain": [
       "<IPython.core.display.Latex object>"
      ]
     },
     "metadata": {},
     "output_type": "display_data"
    }
   ],
   "source": [
    "%%latex\n",
    "$c = \\sqrt{a^2 + b^2}$"
   ]
  },
  {
   "cell_type": "markdown",
   "metadata": {},
   "source": [
    "#### Memória usada pelo Notebook"
   ]
  },
  {
   "cell_type": "code",
   "execution_count": 13,
   "metadata": {},
   "outputs": [
    {
     "name": "stdout",
     "output_type": "stream",
     "text": [
      "Memória usada: 39404.0 MB\n"
     ]
    }
   ],
   "source": [
    "import resource\n",
    "mem = resource.getrusage(resource.RUSAGE_SELF).ru_maxrss / 1024.0\n",
    "print('Memória usada: {} MB'.format(mem))"
   ]
  },
  {
   "cell_type": "markdown",
   "metadata": {
    "collapsed": true
   },
   "source": [
    "#### Imprimir para o console / terminal onde o Jupyter está executando"
   ]
  },
  {
   "cell_type": "code",
   "execution_count": 1,
   "metadata": {},
   "outputs": [
    {
     "data": {
      "text/plain": [
       "5"
      ]
     },
     "execution_count": 1,
     "metadata": {},
     "output_type": "execute_result"
    }
   ],
   "source": [
    "import sys\n",
    "sys.__stdout__.write(\"test\\n\")\n",
    "# Não esquecer o '\\n'!!!"
   ]
  },
  {
   "cell_type": "markdown",
   "metadata": {
    "collapsed": true
   },
   "source": [
    "#### Jupyter Paths"
   ]
  },
  {
   "cell_type": "code",
   "execution_count": 3,
   "metadata": {},
   "outputs": [
    {
     "name": "stdout",
     "output_type": "stream",
     "text": [
      "config:\r\n",
      "    /Users/regis/.jupyter\r\n",
      "    /Users/regis/miniconda3/etc/jupyter\r\n",
      "    /usr/local/etc/jupyter\r\n",
      "    /etc/jupyter\r\n",
      "data:\r\n",
      "    /Users/regis/Library/Jupyter\r\n",
      "    /Users/regis/miniconda3/share/jupyter\r\n",
      "    /usr/local/share/jupyter\r\n",
      "    /usr/share/jupyter\r\n",
      "runtime:\r\n",
      "    /Users/regis/Library/Jupyter/runtime\r\n"
     ]
    }
   ],
   "source": [
    "!jupyter --paths"
   ]
  },
  {
   "cell_type": "markdown",
   "metadata": {},
   "source": [
    "#### Como listar os kernels atualmente instalados?"
   ]
  },
  {
   "cell_type": "code",
   "execution_count": 6,
   "metadata": {},
   "outputs": [
    {
     "name": "stdout",
     "output_type": "stream",
     "text": [
      "Available kernels:\r\n",
      "  apache_toree_scala    /Users/regis/Library/Jupyter/kernels/apache_toree_scala\r\n",
      "  ir                    /Users/regis/Library/Jupyter/kernels/ir\r\n",
      "  python3               /Users/regis/miniconda3/share/jupyter/kernels/python3\r\n"
     ]
    }
   ],
   "source": [
    "!jupyter kernelspec list"
   ]
  },
  {
   "cell_type": "markdown",
   "metadata": {
    "collapsed": true
   },
   "source": [
    "## conda environments\n",
    "\n",
    "http://conda.pydata.org/docs/using/envs.html \n",
    "\n",
    "### list environments\n",
    "```\n",
    "   conda info --envs\n",
    "   conda env list\n",
    "```\n",
    "### create environment\n",
    "```\n",
    "   conda create -n tensorflow python=2.7\n",
    "   # Create a new conda environment with Python 2.7.x\n",
    "   conda create -n gl-env python=2.7 anaconda\n",
    "```\n",
    "### remove environment\n",
    "```\n",
    "   conda remove --name theano --all\n",
    "   conda remove --name tensorflow --all\n",
    "```\n",
    "### activate environment\n",
    "```\n",
    "   # Activate the conda environment\n",
    "   source activate gl-env\n",
    "```\n",
    "### deactivate environment\n",
    "```\n",
    "   source deactivate\n",
    "```\n"
   ]
  },
  {
   "cell_type": "code",
   "execution_count": null,
   "metadata": {
    "collapsed": true
   },
   "outputs": [],
   "source": []
  }
 ],
 "metadata": {
  "anaconda-cloud": {},
  "kernelspec": {
   "display_name": "Python 3",
   "language": "python",
   "name": "python3"
  },
  "language_info": {
   "codemirror_mode": {
    "name": "ipython",
    "version": 3
   },
   "file_extension": ".py",
   "mimetype": "text/x-python",
   "name": "python",
   "nbconvert_exporter": "python",
   "pygments_lexer": "ipython3",
   "version": "3.6.1"
  }
 },
 "nbformat": 4,
 "nbformat_minor": 1
}
